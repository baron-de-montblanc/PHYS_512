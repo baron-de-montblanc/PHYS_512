{
 "cells": [
  {
   "cell_type": "code",
   "execution_count": 1,
   "metadata": {},
   "outputs": [],
   "source": [
    "# Load relevant modules\n",
    "\n",
    "import numpy as np\n",
    "import matplotlib.pyplot as plt\n",
    "from scipy import interpolate\n"
   ]
  },
  {
   "cell_type": "markdown",
   "metadata": {},
   "source": [
    "# Problem 1:"
   ]
  },
  {
   "cell_type": "code",
   "execution_count": 2,
   "metadata": {
    "scrolled": true
   },
   "outputs": [
    {
     "name": "stdout",
     "output_type": "stream",
     "text": [
      "Problem 1 (b) \n",
      "For exp(x) and x = 42\n",
      "For double precision \n",
      "Numerical derivative: 1.739274941520394e+18 \n",
      "True derivative: 1.739274941520501e+18 \n",
      "Fractional error: 6.150635556423367e-14\n"
     ]
    }
   ],
   "source": [
    "\n",
    "def fun(x, choice):\n",
    "    ''' choice is either 'exp(x)', or 'exp(0.01x)' \n",
    "    -> returns (function, true derivative)'''\n",
    "    if choice == 'exp(x)':\n",
    "        return (np.exp(x), np.exp(x))\n",
    "    else:\n",
    "        return (np.exp(0.01*x), 0.01 * np.exp(0.01*x))\n",
    "\n",
    "choice = 'exp(x)'  # Choose which function to use\n",
    "precision = 'double'  # Determine whether to compute epsilon with single or double precision\n",
    "x = 42  # Pick a random x value\n",
    "\n",
    "if precision == 'single':\n",
    "    epsilon = 1e-7\n",
    "else:\n",
    "    epsilon = 1e-16\n",
    "\n",
    "# Compute delta according to the results from the PDF\n",
    "if choice == 'exp(x)':\n",
    "    delta = epsilon**(1/5)\n",
    "else:\n",
    "    delta = 100 * epsilon**(1/5)\n",
    "\n",
    "# First define the point x + delta, call it x2\n",
    "x2 = x + delta\n",
    "\n",
    "# Use the trick to have delta in 'countable' units\n",
    "delta = x2 - x\n",
    "\n",
    "# Evaluate the derivative from x +- delta\n",
    "deriv_1 = (fun(x2, choice)[0] - fun(x - delta, choice)[0])/(2*delta)\n",
    "\n",
    "# Now evaluate the derivative from x +- 2delta\n",
    "deriv_2 = (fun(x + 2*delta, choice)[0] - fun(x - 2*delta, choice)[0])/(4*delta)\n",
    "\n",
    "# Combine them using the linear combination presented in the PDF\n",
    "deriv = 4/3 * deriv_1 - 1/3 * deriv_2\n",
    "\n",
    "# Compute the true derivative\n",
    "true_deriv = fun(x, choice)[1]\n",
    "\n",
    "# Print out results\n",
    "print(\"Problem 1 (b)\",\n",
    "      f\"\\nFor {choice} and x = {x}\"\n",
    "      f\"\\nFor {precision} precision\",\n",
    "      \"\\nNumerical derivative:\",\n",
    "      deriv,\n",
    "      \"\\nTrue derivative:\",\n",
    "      true_deriv,\n",
    "      \"\\nFractional error:\",\n",
    "      np.abs(deriv/true_deriv-1))"
   ]
  },
  {
   "cell_type": "markdown",
   "metadata": {},
   "source": [
    "# Problem 2:"
   ]
  },
  {
   "cell_type": "code",
   "execution_count": 3,
   "metadata": {},
   "outputs": [
    {
     "name": "stdout",
     "output_type": "stream",
     "text": [
      "(1.7392748827369134e+18, 1.940262771281828e-08, 1.425624694099209e-23)\n"
     ]
    }
   ],
   "source": [
    "\n",
    "def ndiff(fun, x, full=False):\n",
    "    \n",
    "    epsilon = 1e-16  # Just use double precision\n",
    "    dx = 1  # Pick a random size for the initial estimate of dx\n",
    "    \n",
    "    for i in range(3):  # Repeat three times to get the optimal dx value\n",
    "   \n",
    "        # Compute f''' according to Eq. 5 in the PDF\n",
    "        f3 = (-fun(x+dx) - fun(x-dx) + 2*fun(x))/(dx**3)\n",
    "\n",
    "        # Compute the optimal dx\n",
    "        dx = np.abs((epsilon*fun(x)/f3))**(1/3)\n",
    "        \n",
    "    # Now compute the derivative\n",
    "    deriv = (fun(x+dx) - fun(x-dx))/(2*dx)\n",
    "    \n",
    "    # Estimate the error according to Eq. 6 in the PDF\n",
    "    err = (epsilon*fun(x))/dx + ((dx**2) * f3)\n",
    "    \n",
    "    if full:\n",
    "        return deriv,dx,np.abs(err/deriv)  # Return the fractional error --> it is more visual than just the error\n",
    "    return deriv\n",
    "\n",
    "# Example:\n",
    "print(ndiff(np.exp, 42, full=True))"
   ]
  },
  {
   "cell_type": "markdown",
   "metadata": {},
   "source": [
    "# Problem 3:"
   ]
  },
  {
   "cell_type": "code",
   "execution_count": 4,
   "metadata": {
    "scrolled": false
   },
   "outputs": [
    {
     "name": "stdout",
     "output_type": "stream",
     "text": [
      "(2000 interpolated points) Mean error: 12.338788344474944 +- 18.79693260798189\n"
     ]
    },
    {
     "data": {
      "image/png": "[encoded data removed]",
      "text/plain": [
       "<Figure size 432x288 with 1 Axes>"
      ]
     },
     "metadata": {
      "needs_background": "light"
     },
     "output_type": "display_data"
    },
    {
     "name": "stdout",
     "output_type": "stream",
     "text": [
      "Voltage points: [0.1 0.2 0.3 0.4]\n",
      "Interpolated temperature points: [495.66893911 452.82275501 410.91132944 368.51045156]\n",
      "Error on each interpolated point: [1.12745052 0.28253029 0.33903881 0.40873556]\n",
      "Fractional error on each interpolated point: [0.0022746  0.00062393 0.00082509 0.00110916]\n",
      "Mean fractional error: 0.0012081952880152566 +- 0.0006393688910661493\n"
     ]
    }
   ],
   "source": [
    "\n",
    "# --------------- First create the bootstrapping algorithm --------------------------------------------\n",
    "\n",
    "def bootstrap(V,data,n=9999):\n",
    "    '''Given some voltage points and the output of np.loadtxt(\"lakeshore.txt\")\n",
    "    bootstrap resample from data n times in order to estimate the error on the interpolation of V'''\n",
    "    \n",
    "    # Recover voltage and temperature from text file\n",
    "    volt = data[:,1]\n",
    "    temp = data[:,0]\n",
    "    \n",
    "    # Create an array of indices\n",
    "    ind = np.linspace(0, len(volt)-1, len(volt))\n",
    "    \n",
    "    # Iterate\n",
    "    bootstrap_inter = []  # Huge list of all bootstrapped interpolation values\n",
    "    \n",
    "    for i in range(n):\n",
    "        \n",
    "        # Resample the indices\n",
    "        r_ind = np.random.choice(ind, size=len(ind))\n",
    "        \n",
    "        # Pick out the corresponding voltage and temperature; remove duplicates\n",
    "        r_volt = np.unique(volt[[int(i) for i in r_ind]])\n",
    "        r_temp = np.unique(temp[[int(i) for i in r_ind]])\n",
    "        \n",
    "        # Put them in order of increasing voltage\n",
    "        r_volt,r_temp = (np.asarray(t) for t in zip(*sorted(zip(r_volt, r_temp))))\n",
    "        \n",
    "        # Interpolate V from the resampled data\n",
    "        r_spln = interpolate.splrep(r_volt, r_temp)\n",
    "        r_inter = interpolate.splev(V, r_spln)\n",
    "        \n",
    "        # Add interpolated points to the list of all interpolated points\n",
    "        bootstrap_inter.append(r_inter)\n",
    "        \n",
    "    bootstrap_inter=np.asarray(bootstrap_inter)\n",
    "    \n",
    "    # The error is the standard deviation on the bootstrapped interpolation values\n",
    "    return np.std(bootstrap_inter, axis=0)\n",
    "\n",
    "\n",
    "# ------------------ Lakeshore function -------------------------------------------------\n",
    "\n",
    "\n",
    "def lakeshore(V,data):\n",
    "    \n",
    "    # Recover voltage and temperature from text file\n",
    "    volt = data[:,1]\n",
    "    temp = data[:,0]\n",
    "    \n",
    "    # Sort them by increasing voltage (instead of temperature)\n",
    "    volt,temp = (np.asarray(t) for t in zip(*sorted(zip(volt, temp))))\n",
    "    \n",
    "    # Get the cubic splines, then interpolate\n",
    "    spln = interpolate.splrep(volt, temp)\n",
    "    temp_inter = interpolate.splev(V, spln, ext=2)\n",
    "    \n",
    "    # Get the error using bootstrap sampling\n",
    "    error = bootstrap(V,data)\n",
    "    \n",
    "    return temp_inter, error\n",
    "\n",
    "\n",
    "# ------------------ Test it out -------------------------------------\n",
    "\n",
    "\n",
    "data = np.loadtxt(\"lakeshore.txt\")\n",
    "\n",
    "volt = data[:,1]\n",
    "temp = data[:,0]\n",
    "\n",
    "volt_test = np.linspace(0.1,1.6,2000)\n",
    "temp_test = lakeshore(volt_test, data)\n",
    "\n",
    "print(\"(2000 interpolated points) Mean error:\", np.mean(temp_test[1]), '+-', np.std(temp_test[1]))\n",
    "\n",
    "plt.plot(volt, temp, '.', color='blue', label=\"Experimental data\")\n",
    "plt.plot(volt_test, temp_test[0], color='red', label=\"Interpolation line\")\n",
    "plt.xlabel(\"Voltage (V)\")\n",
    "plt.ylabel(\"Temperature (K)\")\n",
    "plt.title(\"Lakeshore 670 Diode T vs. V Relation\",y=1.03)\n",
    "plt.legend()\n",
    "\n",
    "#plt.savefig(\"lakeshore.png\",dpi=500,bbox_inches='tight')\n",
    "\n",
    "plt.show()\n",
    "\n",
    "\n",
    "# ------------------------ Test it out for a smaller number of data points\n",
    "\n",
    "volt_test2 = np.array([0.1,0.2,0.3,0.4])\n",
    "temp_test2 = lakeshore(volt_test2, data)\n",
    "\n",
    "print(\"Voltage points:\",volt_test2)\n",
    "print(\"Interpolated temperature points:\",temp_test2[0])\n",
    "print(\"Error on each interpolated point:\", temp_test2[1])\n",
    "print(\"Fractional error on each interpolated point:\", temp_test2[1]/temp_test2[0])\n",
    "print(\"Mean fractional error:\", np.mean(temp_test2[1]/temp_test2[0]), '+-', np.std(temp_test2[1]/temp_test2[0]))"
   ]
  },
  {
   "cell_type": "markdown",
   "metadata": {},
   "source": [
    "# Problem 4"
   ]
  },
  {
   "cell_type": "code",
   "execution_count": 7,
   "metadata": {
    "scrolled": false
   },
   "outputs": [
    {
     "name": "stdout",
     "output_type": "stream",
     "text": [
      "Average error from polynomial interpolation: 0.0009317327665490618\n",
      "Average error from cubic spline interpolation: 0.00029403740732233854\n",
      "Average error from rational function interpolation: 2.6008721206253665e-16\n",
      "\n",
      "p term in rational function: [ 1.00000000e+00  1.33226763e-15 -3.33333333e-01 -1.77635684e-15]\n",
      "q term in rational function: [ 1.77635684e-15  6.66666667e-01 -8.88178420e-16 -3.33333333e-01]\n"
     ]
    },
    {
     "name": "stderr",
     "output_type": "stream",
     "text": [
      "/home/jade_ducharme/anaconda3/lib/python3.8/site-packages/IPython/core/interactiveshell.py:3418: RankWarning: Polyfit may be poorly conditioned\n",
      "  exec(code_obj, self.user_global_ns, self.user_ns)\n"
     ]
    },
    {
     "data": {
      "image/png": "[encoded data removed]",
      "text/plain": [
       "<Figure size 432x288 with 1 Axes>"
      ]
     },
     "metadata": {
      "needs_background": "light"
     },
     "output_type": "display_data"
    }
   ],
   "source": [
    "\n",
    "def lorentz(x):\n",
    "    ''' Return the Lorentzian '''\n",
    "    return 1/(1+x**2)\n",
    "\n",
    "n=4\n",
    "m=5\n",
    "num = n+m-1\n",
    "xmin = -1\n",
    "xmax = 1\n",
    "x = np.linspace(xmin, xmax, num)  # 'True' x values\n",
    "dx = np.median(np.diff(x))\n",
    "y = lorentz(x)  # 'True' y values\n",
    "\n",
    "xx = np.linspace(x[1], x[-2], 1001)  # x values I wish to interpolate\n",
    "yy_true = lorentz(xx)  # True y values for the x values i wish to interpolate\n",
    "\n",
    "\n",
    "# -------------- 1) Polynomial interpolation ---------------------------------------------\n",
    "\n",
    "\n",
    "yy_poly = 0 * xx  # Get an array of zeros of the same size\n",
    "\n",
    "for i, myx in enumerate(xx):\n",
    "    j = int((myx-xmin)/dx)\n",
    "    pp = np.polyfit(x[j-1:j+3], y[j-1:j+3], 3)\n",
    "    yy_poly[i] = np.polyval(pp,myx)\n",
    "    \n",
    "err_poly = np.mean(np.abs(yy_true-yy_poly))\n",
    "print(\"Average error from polynomial interpolation:\",err_poly)\n",
    "    \n",
    "    \n",
    "# -------------- 2) Cubic spline interpolation ----------------------------------------------\n",
    "\n",
    "\n",
    "spln = interpolate.splrep(x,y)\n",
    "yy_spline = interpolate.splev(xx,spln,ext=2)\n",
    "\n",
    "err_spline = np.mean(np.abs(yy_true-yy_spline))\n",
    "print(\"Average error from cubic spline interpolation:\",err_spline)\n",
    "\n",
    "\n",
    "# -------------- 3) Rational function interpolation -------------------------------\n",
    "\n",
    "\n",
    "def rat_eval(p,q,x):\n",
    "    ''' From PHYS 512 Lecture 2'''\n",
    "    top=0\n",
    "    for i in range(len(p)):  # Evaluate the top polynomial\n",
    "        top=top+p[i]*x**i\n",
    "    bot=1\n",
    "    for i in range(len(q)):  # Evaluate the bottom polynomial\n",
    "        bot=bot+q[i]*x**(i+1) \n",
    "    return top/bot  # Return the rational function\n",
    "\n",
    "def rat_fit(x,y,n,m):\n",
    "    ''' From PHYS 512 Lecture 2 '''\n",
    "    assert(len(x)==n+m-1)\n",
    "    assert(len(y)==len(x))\n",
    "    mat=np.zeros([n+m-1,n+m-1])\n",
    "    for i in range(n):\n",
    "        mat[:,i]=x**i\n",
    "    for i in range(1,m):\n",
    "        mat[:,i-1+n]=-y*x**i\n",
    "    pars=np.dot(np.linalg.pinv(mat),y)\n",
    "    p=pars[:n]\n",
    "    q=pars[n:]\n",
    "    return p,q\n",
    "\n",
    "p,q = rat_fit(x,y,n,m)\n",
    "yy_rat = rat_eval(p,q,xx)\n",
    "\n",
    "err_rat = np.mean(np.abs(yy_true-yy_rat))\n",
    "print(\"Average error from rational function interpolation:\",err_rat)\n",
    "print(\"\\np term in rational function:\",p)\n",
    "print(\"q term in rational function:\",q)\n",
    "\n",
    "\n",
    "# --------------- Plot everything ------------------------------------------------\n",
    "\n",
    "\n",
    "plt.plot(x, y, '*', color='blue', label=\"True data points\")\n",
    "plt.plot(xx, yy_poly, label=\"Polynomial interpolation\")\n",
    "plt.plot(xx, yy_spline, label=\"Cubic spline interpolation\")\n",
    "plt.plot(xx, yy_rat, label=\"Rational function interpolation\")\n",
    "\n",
    "plt.xlabel(\"x-values\")\n",
    "plt.ylabel(\"y-values\")\n",
    "plt.title(\"Interpolation methods for the Lorentzian\", y=1.03)\n",
    "\n",
    "plt.legend()\n",
    "\n",
    "#plt.savefig(\"lorentz_rat.png\",dpi=500,bbox_inches='tight')\n",
    "plt.show()\n"
   ]
  },
  {
   "cell_type": "code",
   "execution_count": null,
   "metadata": {},
   "outputs": [],
   "source": []
  }
 ],
 "metadata": {
  "kernelspec": {
   "display_name": "Python 3",
   "language": "python",
   "name": "python3"
  },
  "language_info": {
   "codemirror_mode": {
    "name": "ipython",
    "version": 3
   },
   "file_extension": ".py",
   "mimetype": "text/x-python",
   "name": "python",
   "nbconvert_exporter": "python",
   "pygments_lexer": "ipython3",
   "version": "3.8.5"
  }
 },
 "nbformat": 4,
 "nbformat_minor": 4
}
